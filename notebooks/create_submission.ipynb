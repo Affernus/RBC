{
 "cells": [
  {
   "cell_type": "markdown",
   "metadata": {},
   "source": [
    "# Тетрадка содержит код для получения сабмита"
   ]
  },
  {
   "cell_type": "code",
   "execution_count": 1,
   "metadata": {},
   "outputs": [],
   "source": [
    "%load_ext autoreload\n",
    "import os\n",
    "import re\n",
    "import json\n",
    "import pandas as pd\n",
    "from datetime import datetime\n",
    "\n",
    "from IPython.display import display\n",
    "\n",
    "import matplotlib.pyplot as plt\n",
    "\n",
    "from rbk.utils.global_vars import EMBEDDINGS_PATH, ROOT_ABSPATH, RAW_DATA_PATH, PREPARED_DATA_PATH, MODELS_PATH\n",
    "from rbk.utils import helpers, prepare_data"
   ]
  },
  {
   "cell_type": "markdown",
   "metadata": {},
   "source": [
    "# Загружаем данные"
   ]
  },
  {
   "cell_type": "code",
   "execution_count": 2,
   "metadata": {},
   "outputs": [],
   "source": [
    "df_test = pd.read_parquet(os.path.join(ROOT_ABSPATH, PREPARED_DATA_PATH, 'test.parquet'))\n",
    "df_train = pd.read_parquet(os.path.join(ROOT_ABSPATH, PREPARED_DATA_PATH, 'train.parquet'))\n",
    "sample_submission = pd.read_csv(os.path.join(ROOT_ABSPATH, RAW_DATA_PATH, 'sample_solution.csv'))\n",
    "\n",
    "full_embs = pd.read_parquet(os.path.join(ROOT_ABSPATH, EMBEDDINGS_PATH, 'full_embs.parquet'))\n",
    "titles_embs = pd.read_parquet(os.path.join(ROOT_ABSPATH, EMBEDDINGS_PATH, 'titles_emb.parquet'))\n",
    "tags_embs = pd.read_parquet(os.path.join(ROOT_ABSPATH, EMBEDDINGS_PATH, 'tags_embs.parquet'))\n",
    "authors_embs = pd.read_parquet(os.path.join(ROOT_ABSPATH, EMBEDDINGS_PATH, 'authors_embs.parquet'))\n",
    "first_part_embs = pd.read_parquet(os.path.join(ROOT_ABSPATH, EMBEDDINGS_PATH, 'first_part_embs.parquet'))\n",
    "last_part_embs = pd.read_parquet(os.path.join(ROOT_ABSPATH, EMBEDDINGS_PATH, 'last_part_embs.parquet'))\n",
    "topn_similar = pd.read_parquet(os.path.join(ROOT_ABSPATH, EMBEDDINGS_PATH, 'topn_similar.parquet'))\n",
    "\n",
    "for emb_df in [full_embs, tags_embs, authors_embs, first_part_embs, last_part_embs, topn_similar]:\n",
    "    df_test = df_test.join(emb_df)\n",
    "    df_train = df_train.join(emb_df)"
   ]
  },
  {
   "cell_type": "markdown",
   "metadata": {},
   "source": [
    "# Загружаем модели"
   ]
  },
  {
   "cell_type": "code",
   "execution_count": 3,
   "metadata": {},
   "outputs": [],
   "source": [
    "model_views = helpers.load_pickle(os.path.join(ROOT_ABSPATH, MODELS_PATH, 'model_views.pickle'))\n",
    "with open(os.path.join(ROOT_ABSPATH, MODELS_PATH, 'model_views_train_cols.json'), 'r', encoding='utf-8') as f:\n",
    "              model_views_cols = json.load(f)\n",
    "\n",
    "model_frp = helpers.load_pickle(os.path.join(ROOT_ABSPATH, MODELS_PATH, 'model_full_reads_percent.pickle'))\n",
    "with open(os.path.join(ROOT_ABSPATH, MODELS_PATH, 'model_full_reads_percent_train_cols.json'), 'r', encoding='utf-8') as f:\n",
    "              model_frp_cols = json.load(f)\n",
    "\n",
    "model_depth = helpers.load_pickle(os.path.join(ROOT_ABSPATH, MODELS_PATH, 'model_depth.pickle'))\n",
    "with open(os.path.join(ROOT_ABSPATH, MODELS_PATH, 'model_depth_train_cols.json'), 'r', encoding='utf-8') as f:\n",
    "              model_depth_cols = json.load(f)"
   ]
  },
  {
   "cell_type": "code",
   "execution_count": 4,
   "metadata": {},
   "outputs": [],
   "source": [
    "models = {'views': model_views, 'depth': model_depth, 'full_reads_percent': model_frp}\n",
    "train_cols = {'views': model_views_cols, 'depth': model_depth_cols, 'full_reads_percent': model_frp_cols}"
   ]
  },
  {
   "cell_type": "markdown",
   "metadata": {},
   "source": [
    "# Делаем прогноз для тестовых данных"
   ]
  },
  {
   "cell_type": "code",
   "execution_count": 5,
   "metadata": {},
   "outputs": [],
   "source": [
    "predictions = pd.DataFrame(index=df_test.index)"
   ]
  },
  {
   "cell_type": "code",
   "execution_count": 6,
   "metadata": {},
   "outputs": [],
   "source": [
    "for target_col in ['views', 'full_reads_percent', 'depth']:\n",
    "       _, test = prepare_data.prepare_for_radar(df_test,\n",
    "                                          train_cols[target_col],\n",
    "                                          drop_duplicates=False,\n",
    "                                          duplicates_subset=None)\n",
    "\n",
    "       predicted = pd.Series(index=test.index, data=models[target_col].predict(test))\n",
    "       predicted = predicted[df_test.index]\n",
    "       predictions[target_col] = predicted"
   ]
  },
  {
   "cell_type": "code",
   "execution_count": 7,
   "metadata": {},
   "outputs": [],
   "source": [
    "predictions = predictions.loc[sample_submission['document_id'], :].reset_index()\n",
    "predictions = predictions[sample_submission.columns]"
   ]
  },
  {
   "cell_type": "code",
   "execution_count": 8,
   "metadata": {},
   "outputs": [],
   "source": [
    "assert (predictions['document_id'] != sample_submission['document_id']).sum() == 0,\\\n",
    "    'Индексы сабмита и эталона не совпадают'\n",
    "assert (predictions.columns != sample_submission.columns).sum() == 0,\\\n",
    "    'Колонки сабмита и эталона не совпадают'"
   ]
  },
  {
   "cell_type": "code",
   "execution_count": 9,
   "metadata": {},
   "outputs": [
    {
     "data": {
      "image/png": "[encoded data removed]",
      "text/plain": [
       "<Figure size 1152x288 with 3 Axes>"
      ]
     },
     "metadata": {
      "needs_background": "light"
     },
     "output_type": "display_data"
    }
   ],
   "source": [
    "fig, axs = plt.subplots(nrows=1, ncols=3, figsize=(16,4))\n",
    "for i, col in enumerate(['views', 'depth', 'full_reads_percent']):\n",
    "    bins = axs[i].hist(df_train[col], bins='auto', label='train', density=True)\n",
    "    axs[i].hist(predictions[col], bins=bins[1], label='test', density=True, alpha=.5)\n",
    "    axs[i].set_title(col)\n",
    "plt.tight_layout()\n",
    "plt.show()"
   ]
  },
  {
   "cell_type": "code",
   "execution_count": 10,
   "metadata": {},
   "outputs": [
    {
     "name": "stdout",
     "output_type": "stream",
     "text": [
      "20220719030915\n"
     ]
    }
   ],
   "source": [
    "now = str(datetime.now())\n",
    "now = now.split('.')[0]\n",
    "now = re.sub(r'[^0-9]', '', now)\n",
    "print(now)\n",
    "submit_name = f'submit_{now}.csv'\n",
    "predictions.to_csv(os.path.join(ROOT_ABSPATH, 'data', 'submits', submit_name), index=False)"
   ]
  }
 ],
 "metadata": {
  "kernelspec": {
   "display_name": "Python 3.9.4 64-bit ('rbc')",
   "language": "python",
   "name": "python3"
  },
  "language_info": {
   "codemirror_mode": {
    "name": "ipython",
    "version": 3
   },
   "file_extension": ".py",
   "mimetype": "text/x-python",
   "name": "python",
   "nbconvert_exporter": "python",
   "pygments_lexer": "ipython3",
   "version": "3.9.4"
  },
  "orig_nbformat": 4,
  "vscode": {
   "interpreter": {
    "hash": "48fe355b7e12873a719c6265ea7dcfb2b78013213509946a1c70f90d39cb88f8"
   }
  }
 },
 "nbformat": 4,
 "nbformat_minor": 2
}
